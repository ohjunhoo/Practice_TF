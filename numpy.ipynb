{
 "cells": [
  {
   "cell_type": "code",
   "execution_count": 6,
   "metadata": {},
   "outputs": [
    {
     "name": "stdout",
     "output_type": "stream",
     "text": [
      "[1, 3, 5, 'a', 'b']\n",
      "['1' '3' '5' 'a' 'b']\n"
     ]
    }
   ],
   "source": [
    "import numpy as np\n",
    "\n",
    "a= [1,3,5,\"a\",\"b\"] # 1,3,5 숫자 , 'a','b' 문자\n",
    "print(a)\n",
    "b = np.array([1,3,5,\"a\",\"b\"]) # '1','3','5','a','b' 문자로 통일\n",
    "print(b)"
   ]
  },
  {
   "cell_type": "code",
   "execution_count": 7,
   "metadata": {},
   "outputs": [
    {
     "name": "stdout",
     "output_type": "stream",
     "text": [
      "[[1], [3, 5], [2, 4, 6]]\n",
      "[[1 2]\n",
      " [3 5]\n",
      " [2 6]]\n"
     ]
    }
   ],
   "source": [
    "# 리스트안에 리스트 크기가 고정되지 않아도 문제 x\n",
    "a = [[1],[3,5],[2,4,6]]\n",
    "\n",
    "# b = np.array([[1],[3,5],[2,4,6]])\n",
    "c = np.array([[1,2],[3,5],[2,6]])\n",
    "print(a)\n",
    "print(c)"
   ]
  },
  {
   "cell_type": "code",
   "execution_count": 8,
   "metadata": {},
   "outputs": [
    {
     "name": "stdout",
     "output_type": "stream",
     "text": [
      "[1, 3, 5, 2, 4, 6]\n",
      "[1, 3, 5, 2, 4, 6, 0, 0]\n",
      "[1, 3, 5, 1, 3, 5, 1, 3, 5]\n"
     ]
    }
   ],
   "source": [
    "# 리스트 연산\n",
    "\n",
    "a = [1,3,5]\n",
    "b = [2,4,6]\n",
    "c = [0,0]\n",
    "\n",
    "# 1, 3, 5, 2, 4, 6\n",
    "print(a+b)\n",
    "\n",
    "# 1, 3, 5, 2, 4, 6, 0, 0\n",
    "print(a+b+c)\n",
    "\n",
    "# 1, 3, 5, 1, 3, 5, 1, 3, 5\n",
    "print(a*3)"
   ]
  },
  {
   "cell_type": "code",
   "execution_count": 9,
   "metadata": {},
   "outputs": [
    {
     "name": "stdout",
     "output_type": "stream",
     "text": [
      "[0, 0]\n",
      "[ 2 12 30]\n",
      "[3 5 7]\n",
      "[ 3  9 15]\n"
     ]
    }
   ],
   "source": [
    "# numpy 배열 연산\n",
    "\n",
    "a = np.array([1,3,5])\n",
    "b = np.array([2,4,6])\n",
    "\n",
    "# 각 인데스를 더해준 배열\n",
    "# 1+2, 3+4, 5+6\n",
    "print(c)\n",
    "\n",
    "# 1*2, 3*4, 5*6\n",
    "print(a*b)\n",
    "# 1+2, 3+2 ,5+2\n",
    "print(a+2)\n",
    "\n",
    "# 1*3, 3*3, 5*3\n",
    "print(a*3)"
   ]
  },
  {
   "cell_type": "code",
   "execution_count": 18,
   "metadata": {},
   "outputs": [
    {
     "name": "stdout",
     "output_type": "stream",
     "text": [
      "3.0\n",
      "2\n",
      "[1 3 5]\n",
      "(2, 2, 4)\n",
      "c 슬라이싱\n",
      "[1 2 3 1]\n",
      "[[11  2  3  1]]\n",
      "[[ 3  6]\n",
      " [ 3 16]]\n",
      "[0 1 2 3]\n",
      "[4 5 6 7]\n",
      "[0 4]\n"
     ]
    }
   ],
   "source": [
    "# numpy 배열 메소드\n",
    "\n",
    "a= [1,3,5]\n",
    "b = np.array([1,3,5])\n",
    "\n",
    "# a.mean()\n",
    "print(b.mean())\n",
    "print(b.argmax())\n",
    "print(b.round())\n",
    "\n",
    "c = np.array([[[1,2,3,1],[4,5,6,1]],[[11,2,3,1],[14,15,16,11]]])\n",
    "print(c.shape)\n",
    "print(\"c 슬라이싱\")\n",
    "print(c[0,0,:])\n",
    "print(c[1,:1,:])\n",
    "print(c[:,:,2])\n",
    "d = np.array([[0,1,2,3],[4,5,6,7]])\n",
    "print(d[0,:])\n",
    "print(d[1,:])\n",
    "print(d[:,0])"
   ]
  },
  {
   "cell_type": "code",
   "execution_count": 30,
   "metadata": {},
   "outputs": [
    {
     "name": "stdout",
     "output_type": "stream",
     "text": [
      "(2, 2, 2, 5)\n",
      "[[[ 5 10]\n",
      "  [14 20]]\n",
      "\n",
      " [[25 30]\n",
      "  [35 40]]]\n",
      "[[[ 1  2  3  4  5]\n",
      "  [ 6  7  8  9 10]]]\n"
     ]
    }
   ],
   "source": [
    "test =np.array([[[[1,2,3,4,5],[6,7,8,9,10]],\n",
    "                 [[11,12,13,14,14],[16,17,18,19,20]]],\n",
    "                 [[[21,22,23,24,25],[26,27,28,29,30]],\n",
    "                 [[31,32,33,34,35],[36,37,38,39,40]]]])\n",
    "print(test.shape)\n",
    "print(test[:,:,:,4])\n",
    "print(test[0,::3])"
   ]
  }
 ],
 "metadata": {
  "kernelspec": {
   "display_name": "py31",
   "language": "python",
   "name": "python3"
  },
  "language_info": {
   "codemirror_mode": {
    "name": "ipython",
    "version": 3
   },
   "file_extension": ".py",
   "mimetype": "text/x-python",
   "name": "python",
   "nbconvert_exporter": "python",
   "pygments_lexer": "ipython3",
   "version": "3.10.9"
  },
  "orig_nbformat": 4
 },
 "nbformat": 4,
 "nbformat_minor": 2
}
